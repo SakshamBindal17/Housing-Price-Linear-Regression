{
  "nbformat": 4,
  "nbformat_minor": 0,
  "metadata": {
    "colab": {
      "provenance": []
    },
    "kernelspec": {
      "name": "python3",
      "display_name": "Python 3"
    },
    "language_info": {
      "name": "python"
    }
  },
  "cells": [
    {
      "cell_type": "code",
      "execution_count": 5,
      "metadata": {
        "colab": {
          "base_uri": "https://localhost:8080/"
        },
        "id": "ChoE-kjxeZ1b",
        "outputId": "a5cf8a45-88bd-4823-b2e8-0d913972d824"
      },
      "outputs": [
        {
          "output_type": "stream",
          "name": "stdout",
          "text": [
            "      price   area  bedrooms  bathrooms  stories mainroad guestroom basement  \\\n",
            "0  13300000   7420         4          2        3      yes        no       no   \n",
            "1  12250000   8960         4          4        4      yes        no       no   \n",
            "2  12250000   9960         3          2        2      yes        no      yes   \n",
            "3  12215000   7500         4          2        2      yes        no      yes   \n",
            "4  11410000   7420         4          1        2      yes       yes      yes   \n",
            "5  10850000   7500         3          3        1      yes        no      yes   \n",
            "6  10150000   8580         4          3        4      yes        no       no   \n",
            "7  10150000  16200         5          3        2      yes        no       no   \n",
            "8   9870000   8100         4          1        2      yes       yes      yes   \n",
            "9   9800000   5750         3          2        4      yes       yes       no   \n",
            "\n",
            "  hotwaterheating airconditioning  parking prefarea furnishingstatus  \n",
            "0              no             yes        2      yes        furnished  \n",
            "1              no             yes        3       no        furnished  \n",
            "2              no              no        2      yes   semi-furnished  \n",
            "3              no             yes        3      yes        furnished  \n",
            "4              no             yes        2       no        furnished  \n",
            "5              no             yes        2      yes   semi-furnished  \n",
            "6              no             yes        2      yes   semi-furnished  \n",
            "7              no              no        0       no      unfurnished  \n",
            "8              no             yes        2      yes        furnished  \n",
            "9              no             yes        1      yes      unfurnished  \n",
            "<class 'pandas.core.frame.DataFrame'>\n",
            "RangeIndex: 545 entries, 0 to 544\n",
            "Data columns (total 13 columns):\n",
            " #   Column            Non-Null Count  Dtype \n",
            "---  ------            --------------  ----- \n",
            " 0   price             545 non-null    int64 \n",
            " 1   area              545 non-null    int64 \n",
            " 2   bedrooms          545 non-null    int64 \n",
            " 3   bathrooms         545 non-null    int64 \n",
            " 4   stories           545 non-null    int64 \n",
            " 5   mainroad          545 non-null    object\n",
            " 6   guestroom         545 non-null    object\n",
            " 7   basement          545 non-null    object\n",
            " 8   hotwaterheating   545 non-null    object\n",
            " 9   airconditioning   545 non-null    object\n",
            " 10  parking           545 non-null    int64 \n",
            " 11  prefarea          545 non-null    object\n",
            " 12  furnishingstatus  545 non-null    object\n",
            "dtypes: int64(6), object(7)\n",
            "memory usage: 55.5+ KB\n",
            "None\n"
          ]
        }
      ],
      "source": [
        "import pandas as pd\n",
        "df = pd.read_csv('Housing.csv')\n",
        "print(df.head(10))\n",
        "print(df.info())"
      ]
    },
    {
      "cell_type": "code",
      "source": [
        "categorical_cols = df.select_dtypes(include=['object']).columns.tolist()\n",
        "cat_unique_counts = {col: df[col].nunique() for col in categorical_cols}\n",
        "print(cat_unique_counts)"
      ],
      "metadata": {
        "colab": {
          "base_uri": "https://localhost:8080/"
        },
        "id": "TuBdx_y3hkL8",
        "outputId": "2512236b-c57c-465a-9033-59bfbf9ec31e"
      },
      "execution_count": 6,
      "outputs": [
        {
          "output_type": "stream",
          "name": "stdout",
          "text": [
            "{'mainroad': 2, 'guestroom': 2, 'basement': 2, 'hotwaterheating': 2, 'airconditioning': 2, 'prefarea': 2, 'furnishingstatus': 3}\n"
          ]
        }
      ]
    },
    {
      "cell_type": "code",
      "source": [
        "binary_map = {'yes': 1, 'no': 0}\n",
        "for col in ['mainroad', 'guestroom', 'basement', 'hotwaterheating', 'airconditioning', 'prefarea']:\n",
        "    df[col] = df[col].map(binary_map)"
      ],
      "metadata": {
        "id": "nB_qxOzKjDOG"
      },
      "execution_count": 7,
      "outputs": []
    },
    {
      "cell_type": "code",
      "source": [
        "furnishing_dummies = pd.get_dummies(df['furnishingstatus'], prefix='furnishingstatus')\n",
        "df = pd.concat([df, furnishing_dummies], axis=1)\n",
        "df.drop('furnishingstatus', axis=1, inplace=True)"
      ],
      "metadata": {
        "id": "15kb58u-jPDa"
      },
      "execution_count": 8,
      "outputs": []
    },
    {
      "cell_type": "code",
      "source": [
        "print(df.head())\n",
        "print(df.info())"
      ],
      "metadata": {
        "colab": {
          "base_uri": "https://localhost:8080/"
        },
        "id": "Dhob4J_xjikZ",
        "outputId": "03d1da6a-3b24-4cdf-aed1-4a72e99196f1"
      },
      "execution_count": 9,
      "outputs": [
        {
          "output_type": "stream",
          "name": "stdout",
          "text": [
            "      price  area  bedrooms  bathrooms  stories  mainroad  guestroom  \\\n",
            "0  13300000  7420         4          2        3         1          0   \n",
            "1  12250000  8960         4          4        4         1          0   \n",
            "2  12250000  9960         3          2        2         1          0   \n",
            "3  12215000  7500         4          2        2         1          0   \n",
            "4  11410000  7420         4          1        2         1          1   \n",
            "\n",
            "   basement  hotwaterheating  airconditioning  parking  prefarea  \\\n",
            "0         0                0                1        2         1   \n",
            "1         0                0                1        3         0   \n",
            "2         1                0                0        2         1   \n",
            "3         1                0                1        3         1   \n",
            "4         1                0                1        2         0   \n",
            "\n",
            "   furnishingstatus_furnished  furnishingstatus_semi-furnished  \\\n",
            "0                        True                            False   \n",
            "1                        True                            False   \n",
            "2                       False                             True   \n",
            "3                        True                            False   \n",
            "4                        True                            False   \n",
            "\n",
            "   furnishingstatus_unfurnished  \n",
            "0                         False  \n",
            "1                         False  \n",
            "2                         False  \n",
            "3                         False  \n",
            "4                         False  \n",
            "<class 'pandas.core.frame.DataFrame'>\n",
            "RangeIndex: 545 entries, 0 to 544\n",
            "Data columns (total 15 columns):\n",
            " #   Column                           Non-Null Count  Dtype\n",
            "---  ------                           --------------  -----\n",
            " 0   price                            545 non-null    int64\n",
            " 1   area                             545 non-null    int64\n",
            " 2   bedrooms                         545 non-null    int64\n",
            " 3   bathrooms                        545 non-null    int64\n",
            " 4   stories                          545 non-null    int64\n",
            " 5   mainroad                         545 non-null    int64\n",
            " 6   guestroom                        545 non-null    int64\n",
            " 7   basement                         545 non-null    int64\n",
            " 8   hotwaterheating                  545 non-null    int64\n",
            " 9   airconditioning                  545 non-null    int64\n",
            " 10  parking                          545 non-null    int64\n",
            " 11  prefarea                         545 non-null    int64\n",
            " 12  furnishingstatus_furnished       545 non-null    bool \n",
            " 13  furnishingstatus_semi-furnished  545 non-null    bool \n",
            " 14  furnishingstatus_unfurnished     545 non-null    bool \n",
            "dtypes: bool(3), int64(12)\n",
            "memory usage: 52.8 KB\n",
            "None\n"
          ]
        }
      ]
    },
    {
      "cell_type": "code",
      "source": [
        "bool_cols = ['furnishingstatus_furnished', 'furnishingstatus_semi-furnished', 'furnishingstatus_unfurnished']\n",
        "for col in bool_cols:\n",
        "    df[col] = df[col].astype(int)\n",
        "\n",
        "print(df.head())\n",
        "print(df.info())"
      ],
      "metadata": {
        "colab": {
          "base_uri": "https://localhost:8080/"
        },
        "id": "DGMBqlpfjtf-",
        "outputId": "33cffa4b-cc15-4976-91e0-fc821cc3961c"
      },
      "execution_count": 10,
      "outputs": [
        {
          "output_type": "stream",
          "name": "stdout",
          "text": [
            "      price  area  bedrooms  bathrooms  stories  mainroad  guestroom  \\\n",
            "0  13300000  7420         4          2        3         1          0   \n",
            "1  12250000  8960         4          4        4         1          0   \n",
            "2  12250000  9960         3          2        2         1          0   \n",
            "3  12215000  7500         4          2        2         1          0   \n",
            "4  11410000  7420         4          1        2         1          1   \n",
            "\n",
            "   basement  hotwaterheating  airconditioning  parking  prefarea  \\\n",
            "0         0                0                1        2         1   \n",
            "1         0                0                1        3         0   \n",
            "2         1                0                0        2         1   \n",
            "3         1                0                1        3         1   \n",
            "4         1                0                1        2         0   \n",
            "\n",
            "   furnishingstatus_furnished  furnishingstatus_semi-furnished  \\\n",
            "0                           1                                0   \n",
            "1                           1                                0   \n",
            "2                           0                                1   \n",
            "3                           1                                0   \n",
            "4                           1                                0   \n",
            "\n",
            "   furnishingstatus_unfurnished  \n",
            "0                             0  \n",
            "1                             0  \n",
            "2                             0  \n",
            "3                             0  \n",
            "4                             0  \n",
            "<class 'pandas.core.frame.DataFrame'>\n",
            "RangeIndex: 545 entries, 0 to 544\n",
            "Data columns (total 15 columns):\n",
            " #   Column                           Non-Null Count  Dtype\n",
            "---  ------                           --------------  -----\n",
            " 0   price                            545 non-null    int64\n",
            " 1   area                             545 non-null    int64\n",
            " 2   bedrooms                         545 non-null    int64\n",
            " 3   bathrooms                        545 non-null    int64\n",
            " 4   stories                          545 non-null    int64\n",
            " 5   mainroad                         545 non-null    int64\n",
            " 6   guestroom                        545 non-null    int64\n",
            " 7   basement                         545 non-null    int64\n",
            " 8   hotwaterheating                  545 non-null    int64\n",
            " 9   airconditioning                  545 non-null    int64\n",
            " 10  parking                          545 non-null    int64\n",
            " 11  prefarea                         545 non-null    int64\n",
            " 12  furnishingstatus_furnished       545 non-null    int64\n",
            " 13  furnishingstatus_semi-furnished  545 non-null    int64\n",
            " 14  furnishingstatus_unfurnished     545 non-null    int64\n",
            "dtypes: int64(15)\n",
            "memory usage: 64.0 KB\n",
            "None\n"
          ]
        }
      ]
    },
    {
      "cell_type": "code",
      "source": [
        "from sklearn.model_selection import train_test_split\n",
        "\n",
        "X = df.drop('price', axis=1)\n",
        "y = df['price']\n",
        "\n",
        "X_train, X_test, y_train, y_test = train_test_split(X, y, test_size=0.2, random_state=42)\n",
        "\n",
        "print(\"X_train shape:\", X_train.shape)\n",
        "print(\"X_test shape:\", X_test.shape)\n",
        "print(\"y_train shape:\", y_train.shape)\n",
        "print(\"y_test shape:\", y_test.shape)"
      ],
      "metadata": {
        "colab": {
          "base_uri": "https://localhost:8080/"
        },
        "id": "2oODc2Zhj-FV",
        "outputId": "95b7d6bb-71f4-4e91-fbe8-23ea0038853b"
      },
      "execution_count": 11,
      "outputs": [
        {
          "output_type": "stream",
          "name": "stdout",
          "text": [
            "X_train shape: (436, 14)\n",
            "X_test shape: (109, 14)\n",
            "y_train shape: (436,)\n",
            "y_test shape: (109,)\n"
          ]
        }
      ]
    },
    {
      "cell_type": "code",
      "source": [
        "from sklearn.linear_model import LinearRegression\n",
        "\n",
        "# Initialize the Linear Regression model\n",
        "model = LinearRegression()\n",
        "\n",
        "# Fit the model on the training data\n",
        "model.fit(X_train, y_train)\n",
        "\n",
        "# Output coefficients and intercept for your information\n",
        "print(\"Coefficients:\", model.coef_)\n",
        "print(\"Intercept:\", model.intercept_)"
      ],
      "metadata": {
        "colab": {
          "base_uri": "https://localhost:8080/"
        },
        "id": "YfGwVnYTkgwS",
        "outputId": "76b383a1-1ff4-4f2b-e5ae-7d3d30cd7cda"
      },
      "execution_count": 12,
      "outputs": [
        {
          "output_type": "stream",
          "name": "stdout",
          "text": [
            "Coefficients: [ 2.35968805e+02  7.67787016e+04  1.09444479e+06  4.07476595e+05\n",
            "  3.67919948e+05  2.31610037e+05  3.90251176e+05  6.84649885e+05\n",
            "  7.91426736e+05  2.24841913e+05  6.29890565e+05  1.80175627e+05\n",
            "  5.32938090e+04 -2.33469436e+05]\n",
            "Intercept: 79856.73100297339\n"
          ]
        }
      ]
    },
    {
      "cell_type": "code",
      "source": [
        "from sklearn.metrics import mean_absolute_error, mean_squared_error, r2_score\n",
        "\n",
        "y_pred = model.predict(X_test)\n",
        "\n",
        "mae = mean_absolute_error(y_test, y_pred)\n",
        "mse = mean_squared_error(y_test, y_pred)\n",
        "r2 = r2_score(y_test, y_pred)\n",
        "\n",
        "print(f\"Mean Absolute Error (MAE): {mae:.2f}\")\n",
        "print(f\"Mean Squared Error (MSE): {mse:.2f}\")\n",
        "print(f\"R² Score: {r2:.4f}\")"
      ],
      "metadata": {
        "colab": {
          "base_uri": "https://localhost:8080/"
        },
        "id": "d30EVbLfktZT",
        "outputId": "9ac86935-878d-4329-d0ab-233b93c4f424"
      },
      "execution_count": 13,
      "outputs": [
        {
          "output_type": "stream",
          "name": "stdout",
          "text": [
            "Mean Absolute Error (MAE): 970043.40\n",
            "Mean Squared Error (MSE): 1754318687330.66\n",
            "R² Score: 0.6529\n"
          ]
        }
      ]
    },
    {
      "cell_type": "code",
      "source": [
        "import matplotlib.pyplot as plt\n",
        "\n",
        "plt.figure(figsize=(8,6))\n",
        "plt.scatter(y_test, y_pred, alpha=0.7, color='teal')\n",
        "plt.xlabel(\"Actual Prices\")\n",
        "plt.ylabel(\"Predicted Prices\")\n",
        "plt.title(\"Actual vs Predicted House Prices\")\n",
        "plt.plot([y_test.min(), y_test.max()], [y_test.min(), y_test.max()], 'r--')  # Diagonal line\n",
        "plt.tight_layout()\n",
        "plt.show()"
      ],
      "metadata": {
        "colab": {
          "base_uri": "https://localhost:8080/",
          "height": 607
        },
        "id": "oxR8lap9llX7",
        "outputId": "1a68b906-828c-4ee5-9752-b037c09018f0"
      },
      "execution_count": 14,
      "outputs": [
        {
          "output_type": "display_data",
          "data": {
            "text/plain": [
              "<Figure size 800x600 with 1 Axes>"
            ],
            "image/png": "[encoded data removed]"
          },
          "metadata": {}
        }
      ]
    },
    {
      "cell_type": "code",
      "source": [
        "feature_names = X_train.columns.tolist()\n",
        "coefficients = model.coef_\n",
        "\n",
        "feature_coefficients = dict(zip(feature_names, coefficients))\n",
        "\n",
        "sorted_features = sorted(feature_coefficients.items(), key=lambda x: abs(x[1]), reverse=True)\n",
        "\n",
        "for feature, coef in sorted_features:\n",
        "    print(f\"{feature}: {coef:.2f}\")"
      ],
      "metadata": {
        "colab": {
          "base_uri": "https://localhost:8080/"
        },
        "id": "ESCVoq5OmxDB",
        "outputId": "3ac920a3-7e0f-47b9-c9ae-1ea502b014d6"
      },
      "execution_count": 15,
      "outputs": [
        {
          "output_type": "stream",
          "name": "stdout",
          "text": [
            "bathrooms: 1094444.79\n",
            "airconditioning: 791426.74\n",
            "hotwaterheating: 684649.89\n",
            "prefarea: 629890.57\n",
            "stories: 407476.59\n",
            "basement: 390251.18\n",
            "mainroad: 367919.95\n",
            "furnishingstatus_unfurnished: -233469.44\n",
            "guestroom: 231610.04\n",
            "parking: 224841.91\n",
            "furnishingstatus_furnished: 180175.63\n",
            "bedrooms: 76778.70\n",
            "furnishingstatus_semi-furnished: 53293.81\n",
            "area: 235.97\n"
          ]
        }
      ]
    }
  ]
}
